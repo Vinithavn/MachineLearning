{
  "nbformat": 4,
  "nbformat_minor": 0,
  "metadata": {
    "colab": {
      "name": "vinitha_tsf_task2.ipynb",
      "provenance": [],
      "collapsed_sections": []
    },
    "kernelspec": {
      "name": "python3",
      "display_name": "Python 3"
    }
  },
  "cells": [
    {
      "cell_type": "markdown",
      "metadata": {
        "id": "tb8jXo_t92eX",
        "colab_type": "text"
      },
      "source": [
        "#**To explore Supervised Machine Learning**"
      ]
    },
    {
      "cell_type": "markdown",
      "metadata": {
        "id": "3UkCHShdj3Ba",
        "colab_type": "text"
      },
      "source": [
        "**Importing a bunch of libraries**"
      ]
    },
    {
      "cell_type": "code",
      "metadata": {
        "id": "TPGyi_fDjzpH",
        "colab_type": "code",
        "colab": {}
      },
      "source": [
        "import pandas as pd\n",
        "import numpy as np\n",
        "import matplotlib.pyplot as plt\n",
        "import sklearn\n",
        "import math"
      ],
      "execution_count": null,
      "outputs": []
    },
    {
      "cell_type": "markdown",
      "metadata": {
        "id": "_6HZT4jLkPV4",
        "colab_type": "text"
      },
      "source": [
        "**Reading data from the given url**"
      ]
    },
    {
      "cell_type": "code",
      "metadata": {
        "id": "ODGEZFcCkGzl",
        "colab_type": "code",
        "colab": {
          "base_uri": "https://localhost:8080/",
          "height": 126
        },
        "outputId": "6d94b3e3-a34a-471b-8df1-e1b6f80cf855"
      },
      "source": [
        "url=\"http://bit.ly/w-data\"\n",
        "data=pd.read_csv(url)\n",
        "print(data.head())"
      ],
      "execution_count": null,
      "outputs": [
        {
          "output_type": "stream",
          "text": [
            "   Hours  Scores\n",
            "0    2.5      21\n",
            "1    5.1      47\n",
            "2    3.2      27\n",
            "3    8.5      75\n",
            "4    3.5      30\n"
          ],
          "name": "stdout"
        }
      ]
    },
    {
      "cell_type": "markdown",
      "metadata": {
        "id": "k23Qc8Kamnav",
        "colab_type": "text"
      },
      "source": [
        "**Check for any null values in the data**"
      ]
    },
    {
      "cell_type": "code",
      "metadata": {
        "id": "ma5bvEGwl76P",
        "colab_type": "code",
        "colab": {
          "base_uri": "https://localhost:8080/",
          "height": 72
        },
        "outputId": "786de3e3-10dd-4c69-ec73-cceb7ba67d1d"
      },
      "source": [
        "print(data.isnull().any())"
      ],
      "execution_count": null,
      "outputs": [
        {
          "output_type": "stream",
          "text": [
            "Hours     False\n",
            "Scores    False\n",
            "dtype: bool\n"
          ],
          "name": "stdout"
        }
      ]
    },
    {
      "cell_type": "markdown",
      "metadata": {
        "id": "FP8oHJTYlVwe",
        "colab_type": "text"
      },
      "source": [
        "The data contains two colums: Hours and Scores\n",
        "We need to predict Scores given Hours. So take the Hours feature as x and Scores as y so that we can predict y given x"
      ]
    },
    {
      "cell_type": "code",
      "metadata": {
        "id": "trlHEPCQlU2t",
        "colab_type": "code",
        "colab": {}
      },
      "source": [
        "x=data[\"Hours\"].values.reshape(-1,1)\n",
        "y=data[\"Scores\"].values.reshape(-1,1)\n"
      ],
      "execution_count": null,
      "outputs": []
    },
    {
      "cell_type": "markdown",
      "metadata": {
        "id": "JQzRDVO1m5Aj",
        "colab_type": "text"
      },
      "source": [
        "Since there is only one feature available for the prediction of scores and we are using linear regression for prediction, it is necessary that both these variables should have a linear relationship between them \n",
        "\n",
        "Only then we will be able to predict correctly\n",
        "\n",
        "Check for the relation between variables using matplot lib scatter plot"
      ]
    },
    {
      "cell_type": "code",
      "metadata": {
        "id": "cpoTJ0yFm4Ha",
        "colab_type": "code",
        "colab": {
          "base_uri": "https://localhost:8080/",
          "height": 295
        },
        "outputId": "a20cd6ce-2ace-4802-a14a-1eb7cf4f8ccc"
      },
      "source": [
        "plt.title(\"relation between no of hours and score\")\n",
        "plt.xlabel(\"Hours\")\n",
        "plt.ylabel(\"Score\")\n",
        "plt.scatter(x,y)\n",
        "plt.show()"
      ],
      "execution_count": null,
      "outputs": [
        {
          "output_type": "display_data",
          "data": {
            "image/png": "[encoded data removed]",
            "text/plain": [
              "<Figure size 432x288 with 1 Axes>"
            ]
          },
          "metadata": {
            "tags": [],
            "needs_background": "light"
          }
        }
      ]
    },
    {
      "cell_type": "markdown",
      "metadata": {
        "id": "4-QdrW_NnxOO",
        "colab_type": "text"
      },
      "source": [
        "Since a linear relationship is existing between the variables we can go forward with linear regression model"
      ]
    },
    {
      "cell_type": "markdown",
      "metadata": {
        "id": "GupdIzWVoFxZ",
        "colab_type": "text"
      },
      "source": [
        "**Splitting data**"
      ]
    },
    {
      "cell_type": "markdown",
      "metadata": {
        "id": "UpOPwvGToI4M",
        "colab_type": "text"
      },
      "source": [
        "In order to test the model properly, we split the data into train and test\n",
        "\n",
        "We train the model using train data and check its accuracy in both train and test data.\n",
        "\n",
        "Only if the model performs better in train and test data, then the model is considered as properly trained"
      ]
    },
    {
      "cell_type": "code",
      "metadata": {
        "id": "2BOCCeGslRLU",
        "colab_type": "code",
        "colab": {}
      },
      "source": [
        "from sklearn.model_selection import train_test_split"
      ],
      "execution_count": null,
      "outputs": []
    },
    {
      "cell_type": "code",
      "metadata": {
        "id": "ysd6jeJ2onIA",
        "colab_type": "code",
        "colab": {}
      },
      "source": [
        "x_train,x_test,y_train,y_test=train_test_split(x,y,test_size=0.2,random_state=10)"
      ],
      "execution_count": null,
      "outputs": []
    },
    {
      "cell_type": "markdown",
      "metadata": {
        "id": "sPY0aqVcEPuz",
        "colab_type": "text"
      },
      "source": [
        "**Model training**"
      ]
    },
    {
      "cell_type": "code",
      "metadata": {
        "id": "7qsD_ZQtozKX",
        "colab_type": "code",
        "colab": {}
      },
      "source": [
        "from sklearn.linear_model import LinearRegression\n",
        "model=LinearRegression()\n"
      ],
      "execution_count": null,
      "outputs": []
    },
    {
      "cell_type": "code",
      "metadata": {
        "id": "zpOVb9LOpPW6",
        "colab_type": "code",
        "colab": {
          "base_uri": "https://localhost:8080/",
          "height": 35
        },
        "outputId": "381037dc-e435-483b-8f6d-ea9f258170b0"
      },
      "source": [
        "model.fit(x_train,y_train)"
      ],
      "execution_count": null,
      "outputs": [
        {
          "output_type": "execute_result",
          "data": {
            "text/plain": [
              "LinearRegression(copy_X=True, fit_intercept=True, n_jobs=None, normalize=False)"
            ]
          },
          "metadata": {
            "tags": []
          },
          "execution_count": 225
        }
      ]
    },
    {
      "cell_type": "markdown",
      "metadata": {
        "id": "uBuMFRh6qVln",
        "colab_type": "text"
      },
      "source": [
        "The predicted value of scores= Wx+b\n",
        "where w is the coefficients from the trained model, x is the no of hours and b is the intercept\n",
        "\n",
        "So we check if the realtion between predicted y -x and orginal y-x is matching or not"
      ]
    },
    {
      "cell_type": "code",
      "metadata": {
        "id": "lJkk2St3qUuU",
        "colab_type": "code",
        "colab": {}
      },
      "source": [
        "pred=model.coef_*x_train+model.intercept_"
      ],
      "execution_count": null,
      "outputs": []
    },
    {
      "cell_type": "code",
      "metadata": {
        "id": "wSdidBf6plpH",
        "colab_type": "code",
        "colab": {
          "base_uri": "https://localhost:8080/",
          "height": 265
        },
        "outputId": "e36d4ce2-6897-4f2a-e01b-0c00572db2fe"
      },
      "source": [
        "plt.scatter(x, y)\n",
        "plt.plot(x_train, pred);\n",
        "plt.show()"
      ],
      "execution_count": null,
      "outputs": [
        {
          "output_type": "display_data",
          "data": {
            "image/png": "[encoded data removed]",
            "text/plain": [
              "<Figure size 432x288 with 1 Axes>"
            ]
          },
          "metadata": {
            "tags": [],
            "needs_background": "light"
          }
        }
      ]
    },
    {
      "cell_type": "markdown",
      "metadata": {
        "id": "Ni1IA9UmuUi4",
        "colab_type": "text"
      },
      "source": [
        "So the predicted y is almost matching with the orginal y"
      ]
    },
    {
      "cell_type": "markdown",
      "metadata": {
        "id": "bbO3Zz8FuaCd",
        "colab_type": "text"
      },
      "source": [
        "**Checking the training and testing mean square error**"
      ]
    },
    {
      "cell_type": "code",
      "metadata": {
        "id": "PcRh6OJUszAC",
        "colab_type": "code",
        "colab": {
          "base_uri": "https://localhost:8080/",
          "height": 35
        },
        "outputId": "54223285-0f1e-4806-a36b-2c8c62fb86ff"
      },
      "source": [
        "mse=0\n",
        "for i in range(x_train.shape[0]):\n",
        "  mse+=(pred[i]-y_train[i])**2\n",
        "\n",
        "print(\"training mse is \",math.sqrt(mse)/x_train.shape[0])\n"
      ],
      "execution_count": null,
      "outputs": [
        {
          "output_type": "stream",
          "text": [
            "training mse is  1.1768794801684257\n"
          ],
          "name": "stdout"
        }
      ]
    },
    {
      "cell_type": "code",
      "metadata": {
        "id": "2fiLvKQwu3ec",
        "colab_type": "code",
        "colab": {}
      },
      "source": [
        "pred_test=model.predict(x_test)"
      ],
      "execution_count": null,
      "outputs": []
    },
    {
      "cell_type": "code",
      "metadata": {
        "id": "p0SRK01mvEsB",
        "colab_type": "code",
        "colab": {
          "base_uri": "https://localhost:8080/",
          "height": 35
        },
        "outputId": "837d9e5f-2ea9-40e6-852e-26331f2c6498"
      },
      "source": [
        "mse=0\n",
        "for i in range(x_test.shape[0]):\n",
        "  mse+=(pred_test[i]-y_test[i])**2\n",
        "\n",
        "print(\"testing mse is \",math.sqrt(mse)/x_test.shape[0])\n"
      ],
      "execution_count": null,
      "outputs": [
        {
          "output_type": "stream",
          "text": [
            "testing mse is  2.6191888267434016\n"
          ],
          "name": "stdout"
        }
      ]
    },
    {
      "cell_type": "code",
      "metadata": {
        "id": "6TUE0XyAvMib",
        "colab_type": "code",
        "colab": {}
      },
      "source": [
        "y_hat=[]\n",
        "for i in pred_test:\n",
        "  y_hat.append(i[0])\n",
        "\n",
        "actual=[]\n",
        "for i in y_test:\n",
        "  actual.append(i[0])\n"
      ],
      "execution_count": null,
      "outputs": []
    },
    {
      "cell_type": "code",
      "metadata": {
        "id": "FE_tZX6TvaTZ",
        "colab_type": "code",
        "colab": {
          "base_uri": "https://localhost:8080/",
          "height": 126
        },
        "outputId": "c4ec93ff-9480-40e8-e4ca-7b1e240b6859"
      },
      "source": [
        "comp=pd.DataFrame({\"actual\":actual,\"pred\":y_hat})\n",
        "print(comp.head())"
      ],
      "execution_count": null,
      "outputs": [
        {
          "output_type": "stream",
          "text": [
            "   actual       pred\n",
            "0      20  17.371423\n",
            "1      47  52.702923\n",
            "2      42  35.037173\n",
            "3      27  34.055743\n",
            "4      41  46.814340\n"
          ],
          "name": "stdout"
        }
      ]
    },
    {
      "cell_type": "markdown",
      "metadata": {
        "id": "1se6uTqCxiJq",
        "colab_type": "text"
      },
      "source": [
        "Lets try to improve the performance using properly tuned hyper parameters"
      ]
    },
    {
      "cell_type": "code",
      "metadata": {
        "id": "FaGC-pUjxalv",
        "colab_type": "code",
        "colab": {}
      },
      "source": [
        "new_model =sklearn.linear_model.Ridge()"
      ],
      "execution_count": null,
      "outputs": []
    },
    {
      "cell_type": "code",
      "metadata": {
        "id": "pJmt8gsxyvFC",
        "colab_type": "code",
        "colab": {}
      },
      "source": [
        "params={\"alpha\":[1e-4,0.0001,0.001,0.01,0.1,1,10,100]}\n",
        "from sklearn.model_selection import GridSearchCV\n",
        "grid_cfl=GridSearchCV(new_model,param_grid=params,n_jobs=-1,return_train_score=True,cv=5)"
      ],
      "execution_count": null,
      "outputs": []
    },
    {
      "cell_type": "code",
      "metadata": {
        "id": "1-T07IIhy2QL",
        "colab_type": "code",
        "colab": {
          "base_uri": "https://localhost:8080/",
          "height": 181
        },
        "outputId": "fc612f0c-afcf-40a1-9cec-326437fda066"
      },
      "source": [
        "grid_cfl.fit(x_train,y_train)"
      ],
      "execution_count": null,
      "outputs": [
        {
          "output_type": "execute_result",
          "data": {
            "text/plain": [
              "GridSearchCV(cv=5, error_score=nan,\n",
              "             estimator=Ridge(alpha=1.0, copy_X=True, fit_intercept=True,\n",
              "                             max_iter=None, normalize=False, random_state=None,\n",
              "                             solver='auto', tol=0.001),\n",
              "             iid='deprecated', n_jobs=-1,\n",
              "             param_grid={'alpha': [0.0001, 0.0001, 0.001, 0.01, 0.1, 1, 10,\n",
              "                                   100]},\n",
              "             pre_dispatch='2*n_jobs', refit=True, return_train_score=True,\n",
              "             scoring=None, verbose=0)"
            ]
          },
          "metadata": {
            "tags": []
          },
          "execution_count": 312
        }
      ]
    },
    {
      "cell_type": "code",
      "metadata": {
        "id": "xTcRjjKMzerZ",
        "colab_type": "code",
        "colab": {
          "base_uri": "https://localhost:8080/",
          "height": 35
        },
        "outputId": "92f80ad3-9968-49b4-bc79-695f9e7c0aa7"
      },
      "source": [
        "grid_cfl.best_params_"
      ],
      "execution_count": null,
      "outputs": [
        {
          "output_type": "execute_result",
          "data": {
            "text/plain": [
              "{'alpha': 0.1}"
            ]
          },
          "metadata": {
            "tags": []
          },
          "execution_count": 313
        }
      ]
    },
    {
      "cell_type": "code",
      "metadata": {
        "id": "RdzcpKqOziyk",
        "colab_type": "code",
        "colab": {}
      },
      "source": [
        "new_model=sklearn.linear_model.Ridge(alpha=0.1)"
      ],
      "execution_count": null,
      "outputs": []
    },
    {
      "cell_type": "code",
      "metadata": {
        "id": "nqvAEW6izrRC",
        "colab_type": "code",
        "colab": {
          "base_uri": "https://localhost:8080/",
          "height": 54
        },
        "outputId": "09265e00-6750-48a3-e939-668a8df0d568"
      },
      "source": [
        "new_model.fit(x_train,y_train)"
      ],
      "execution_count": null,
      "outputs": [
        {
          "output_type": "execute_result",
          "data": {
            "text/plain": [
              "Ridge(alpha=0.1, copy_X=True, fit_intercept=True, max_iter=None,\n",
              "      normalize=False, random_state=None, solver='auto', tol=0.001)"
            ]
          },
          "metadata": {
            "tags": []
          },
          "execution_count": 315
        }
      ]
    },
    {
      "cell_type": "code",
      "metadata": {
        "id": "bEchlgGyzzuh",
        "colab_type": "code",
        "colab": {}
      },
      "source": [
        "y_train_hat=new_model.predict(x_train)"
      ],
      "execution_count": null,
      "outputs": []
    },
    {
      "cell_type": "code",
      "metadata": {
        "id": "9z7Or0SE2eEO",
        "colab_type": "code",
        "colab": {
          "base_uri": "https://localhost:8080/",
          "height": 265
        },
        "outputId": "4cde492a-64fe-40b9-8113-8ae984ee816d"
      },
      "source": [
        "plt.scatter(x, y)\n",
        "plt.plot(x_train, y_train_hat);\n",
        "plt.show()"
      ],
      "execution_count": null,
      "outputs": [
        {
          "output_type": "display_data",
          "data": {
            "image/png": "[encoded data removed]",
            "text/plain": [
              "<Figure size 432x288 with 1 Axes>"
            ]
          },
          "metadata": {
            "tags": [],
            "needs_background": "light"
          }
        }
      ]
    },
    {
      "cell_type": "code",
      "metadata": {
        "id": "LT4Y7tGy2nF4",
        "colab_type": "code",
        "colab": {
          "base_uri": "https://localhost:8080/",
          "height": 35
        },
        "outputId": "23ea5a70-fbbc-40e1-afa1-629eda1efd2a"
      },
      "source": [
        "mse=0\n",
        "for i in range(x_train.shape[0]):\n",
        "  mse+=(y_train_hat[i]-y_train[i])**2\n",
        "\n",
        "print(\"training mse is \",math.sqrt(mse)/x_train.shape[0])\n"
      ],
      "execution_count": null,
      "outputs": [
        {
          "output_type": "stream",
          "text": [
            "training mse is  1.1768872525738001\n"
          ],
          "name": "stdout"
        }
      ]
    },
    {
      "cell_type": "code",
      "metadata": {
        "id": "ypicWq1YMvZZ",
        "colab_type": "code",
        "colab": {}
      },
      "source": [
        "y_test_hat=new_model.predict(x_test)"
      ],
      "execution_count": null,
      "outputs": []
    },
    {
      "cell_type": "code",
      "metadata": {
        "id": "61mJLjLp2yoP",
        "colab_type": "code",
        "colab": {
          "base_uri": "https://localhost:8080/",
          "height": 35
        },
        "outputId": "50f35933-07d2-44e0-c864-4ac6b78ea584"
      },
      "source": [
        "mse=0\n",
        "for i in range(x_test.shape[0]):\n",
        "  mse+=(y_test_hat[i]-y_test[i])**2\n",
        "\n",
        "print(\"testing mse is \",math.sqrt(mse)/x_test.shape[0])\n"
      ],
      "execution_count": null,
      "outputs": [
        {
          "output_type": "stream",
          "text": [
            "testing mse is  2.61890982987288\n"
          ],
          "name": "stdout"
        }
      ]
    },
    {
      "cell_type": "markdown",
      "metadata": {
        "id": "oXmHLCmd33In",
        "colab_type": "text"
      },
      "source": [
        "For both models the performance is same"
      ]
    },
    {
      "cell_type": "code",
      "metadata": {
        "id": "o-yppRmF27yP",
        "colab_type": "code",
        "colab": {}
      },
      "source": [
        "sample_x=np.array([9.25])\n",
        "score_1=model.predict(sample_x.reshape(-1,1))\n",
        "score_2=new_model.predict(sample_x.reshape(-1,1))"
      ],
      "execution_count": null,
      "outputs": []
    },
    {
      "cell_type": "code",
      "metadata": {
        "id": "aggKzNQX4iVq",
        "colab_type": "code",
        "colab": {
          "base_uri": "https://localhost:8080/",
          "height": 54
        },
        "outputId": "1da810a3-a838-4525-c72f-b1d90d590062"
      },
      "source": [
        "print(\"score from 1st model is \",score_1)\n",
        "print(\"score from second model is \",score_2)"
      ],
      "execution_count": null,
      "outputs": [
        {
          "output_type": "stream",
          "text": [
            "score from 1st model is  [[93.43229054]]\n",
            "score from second model is  [[93.40345028]]\n"
          ],
          "name": "stdout"
        }
      ]
    },
    {
      "cell_type": "code",
      "metadata": {
        "id": "DYiDV1jI893e",
        "colab_type": "code",
        "colab": {
          "base_uri": "https://localhost:8080/",
          "height": 54
        },
        "outputId": "c4212d27-2daf-4b39-f06c-5fc18ef73022"
      },
      "source": [
        "from sklearn import metrics  \n",
        "print('Mean Absolute Error model 1:', metrics.mean_absolute_error(y_test, y_hat))\n",
        "print('Mean Absolute Error model 2:', metrics.mean_absolute_error(y_test, y_test_hat))"
      ],
      "execution_count": null,
      "outputs": [
        {
          "output_type": "stream",
          "text": [
            "Mean Absolute Error model 1: 5.632881746692994\n",
            "Mean Absolute Error model 2: 5.628979171339398\n"
          ],
          "name": "stdout"
        }
      ]
    },
    {
      "cell_type": "code",
      "metadata": {
        "id": "XsUOhQkCLMrq",
        "colab_type": "code",
        "colab": {}
      },
      "source": [
        ""
      ],
      "execution_count": null,
      "outputs": []
    }
  ]
}