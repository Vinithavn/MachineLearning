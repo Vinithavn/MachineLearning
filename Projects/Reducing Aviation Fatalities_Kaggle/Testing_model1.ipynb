{
 "cells": [
  {
   "cell_type": "code",
   "execution_count": 1,
   "metadata": {},
   "outputs": [],
   "source": [
    "import pandas as pd\n",
    "import numpy as np\n",
    "import matplotlib.pyplot as plt\n",
    "import seaborn as sns\n",
    "import sklearn\n",
    "import dask.dataframe as dd\n",
    "from sklearn.model_selection import train_test_split\n",
    "from sklearn.ensemble import RandomForestClassifier\n",
    "import lightgbm as lgb\n",
    "from sklearn.metrics import log_loss\n",
    "from sklearn.model_selection import RandomizedSearchCV\n",
    "from sklearn.metrics import multilabel_confusion_matrix\n",
    "from sklearn.preprocessing import StandardScaler,MinMaxScaler,Normalizer\n",
    "import tqdm\n",
    "from tqdm import tqdm\n",
    "import warnings\n",
    "warnings. filterwarnings(\"ignore\") \n",
    "from scipy import signal\n",
    "from biosppy.signals import ecg \n",
    "from biosppy.signals import eeg\n",
    "from biosppy.signals import resp\n",
    "from scipy.interpolate import interp1d \n",
    "import phik\n",
    "import dask.array as ar\n",
    "from sklearn.externals import joblib \n",
    "import tqdm\n",
    "from tqdm import tqdm"
   ]
  },
  {
   "cell_type": "code",
   "execution_count": 33,
   "metadata": {},
   "outputs": [
    {
     "name": "stderr",
     "output_type": "stream",
     "text": [
      "192it [00:00, 1844.06it/s]"
     ]
    },
    {
     "name": "stdout",
     "output_type": "stream",
     "text": [
      "Done\n"
     ]
    },
    {
     "name": "stderr",
     "output_type": "stream",
     "text": [
      "17965143it [13:46, 21748.56it/s]\n"
     ]
    }
   ],
   "source": [
    "# import csv\n",
    "\n",
    "\n",
    "# in_csvfile = open('test_eda', \"r\")\n",
    "# print(\"Done\")\n",
    "# # reader, that would read file for you line-by-line\n",
    "# reader = csv.DictReader(in_csvfile)\n",
    "\n",
    "# # number of current line read\n",
    "# num = 0\n",
    "\n",
    "# # number of output file\n",
    "# output_file_num = 5\n",
    "\n",
    "# # your output file\n",
    "# out_csvfile = open('out_{}.csv'.format(output_file_num), \"w\")\n",
    "\n",
    "# # writer should be constructed in a read loop, \n",
    "# # because we need csv headers to be already available \n",
    "# # to construct writer object\n",
    "# writer = None\n",
    "\n",
    "# for row in tqdm(reader):\n",
    "#     num += 1\n",
    "#     if num>=17965139:\n",
    "#     # Here you have your data line in a row variable\n",
    "\n",
    "#     # If writer doesn't exists, create one\n",
    "   \n",
    "#         writer = csv.DictWriter(\n",
    "#             out_csvfile, \n",
    "#             fieldnames=row.keys(), \n",
    "#             delimiter=\",\", quotechar='\"', escapechar='\"', \n",
    "#             lineterminator='\\n', quoting=csv.QUOTE_NONNUMERIC\n",
    "#         )\n",
    "\n",
    "#     # Write a row into a writer (out_csvfile, remember?)\n",
    "    \n",
    "#         writer.writerow(row)\n",
    "\n",
    "#     # If we got a 10000 rows read, save current out file\n",
    "#     # and create a new one\n",
    "    \n",
    "# # Closing the files\n",
    "# in_csvfile.close()\n",
    "# out_csvfile.close()"
   ]
  },
  {
   "cell_type": "code",
   "execution_count": 2,
   "metadata": {},
   "outputs": [],
   "source": [
    "clf= joblib.load('model1.pkl')  "
   ]
  },
  {
   "cell_type": "code",
   "execution_count": null,
   "metadata": {},
   "outputs": [],
   "source": [
    "# ids=[]\n",
    "# r=[]\n",
    "# for i in range(1,5):\n",
    "#     data=dd.read_csv(\"out_\"+str(i)+\".csv\")\n",
    "#     data=data.compute()\n",
    "#     ids.append(data.iloc[:,0].values)\n",
    "#     data=data.drop(data.columns[0], axis=1)\n",
    "#     r.append(clf.predict_proba(data))\n",
    "    "
   ]
  },
  {
   "cell_type": "markdown",
   "metadata": {},
   "source": [
    "Here I have splitted the test csv file into five parts and predicted the results for each part at a time due to memory constarints"
   ]
  },
  {
   "cell_type": "code",
   "execution_count": 16,
   "metadata": {},
   "outputs": [
    {
     "name": "stdout",
     "output_type": "stream",
     "text": [
      "done\n",
      "(4000000, 4)\n"
     ]
    }
   ],
   "source": [
    "data=dd.read_csv(\"out_1.csv\")\n",
    "data=data.compute()\n",
    "print(\"done\")\n",
    "data=data.drop(data.columns[0], axis=1)\n",
    "print(clf.predict_proba(data).shape)\n",
    "np.save(\"r1_model1\",clf.predict_proba(data))\n"
   ]
  },
  {
   "cell_type": "code",
   "execution_count": 17,
   "metadata": {},
   "outputs": [],
   "source": [
    "sub=pd.DataFrame()\n",
    "sub[\"id\"]=np.arange(0,17965143)"
   ]
  },
  {
   "cell_type": "code",
   "execution_count": 18,
   "metadata": {},
   "outputs": [],
   "source": [
    "r=np.concatenate((np.load(\"r1_model1.npy\"),np.load(\"r2_model1.npy\"),np.load(\"r3_model1.npy\"),np.load(\"r4_model1.npy\"),np.load(\"r5_model1.npy\")))\n",
    "sub[\"A\"]=r[:,0]\n",
    "sub[\"B\"]=r[:,1]\n",
    "sub[\"C\"]=r[:,2]\n",
    "sub[\"D\"]=r[:,3]"
   ]
  },
  {
   "cell_type": "code",
   "execution_count": 19,
   "metadata": {},
   "outputs": [
    {
     "name": "stdout",
     "output_type": "stream",
     "text": [
      "(17965143, 5)\n"
     ]
    },
    {
     "data": {
      "text/html": [
       "<div>\n",
       "<style scoped>\n",
       "    .dataframe tbody tr th:only-of-type {\n",
       "        vertical-align: middle;\n",
       "    }\n",
       "\n",
       "    .dataframe tbody tr th {\n",
       "        vertical-align: top;\n",
       "    }\n",
       "\n",
       "    .dataframe thead th {\n",
       "        text-align: right;\n",
       "    }\n",
       "</style>\n",
       "<table border=\"1\" class=\"dataframe\">\n",
       "  <thead>\n",
       "    <tr style=\"text-align: right;\">\n",
       "      <th></th>\n",
       "      <th>id</th>\n",
       "      <th>A</th>\n",
       "      <th>B</th>\n",
       "      <th>C</th>\n",
       "      <th>D</th>\n",
       "    </tr>\n",
       "  </thead>\n",
       "  <tbody>\n",
       "    <tr>\n",
       "      <th>0</th>\n",
       "      <td>0</td>\n",
       "      <td>0.920459</td>\n",
       "      <td>0.000601</td>\n",
       "      <td>0.077990</td>\n",
       "      <td>0.000951</td>\n",
       "    </tr>\n",
       "    <tr>\n",
       "      <th>1</th>\n",
       "      <td>1</td>\n",
       "      <td>0.922988</td>\n",
       "      <td>0.000724</td>\n",
       "      <td>0.075292</td>\n",
       "      <td>0.000996</td>\n",
       "    </tr>\n",
       "    <tr>\n",
       "      <th>2</th>\n",
       "      <td>2</td>\n",
       "      <td>0.923043</td>\n",
       "      <td>0.000589</td>\n",
       "      <td>0.075435</td>\n",
       "      <td>0.000932</td>\n",
       "    </tr>\n",
       "    <tr>\n",
       "      <th>3</th>\n",
       "      <td>3</td>\n",
       "      <td>0.922988</td>\n",
       "      <td>0.000724</td>\n",
       "      <td>0.075292</td>\n",
       "      <td>0.000996</td>\n",
       "    </tr>\n",
       "    <tr>\n",
       "      <th>4</th>\n",
       "      <td>4</td>\n",
       "      <td>0.905030</td>\n",
       "      <td>0.000584</td>\n",
       "      <td>0.093463</td>\n",
       "      <td>0.000924</td>\n",
       "    </tr>\n",
       "    <tr>\n",
       "      <th>...</th>\n",
       "      <td>...</td>\n",
       "      <td>...</td>\n",
       "      <td>...</td>\n",
       "      <td>...</td>\n",
       "      <td>...</td>\n",
       "    </tr>\n",
       "    <tr>\n",
       "      <th>17965138</th>\n",
       "      <td>17965138</td>\n",
       "      <td>0.271763</td>\n",
       "      <td>0.001067</td>\n",
       "      <td>0.715887</td>\n",
       "      <td>0.011283</td>\n",
       "    </tr>\n",
       "    <tr>\n",
       "      <th>17965139</th>\n",
       "      <td>17965139</td>\n",
       "      <td>0.824518</td>\n",
       "      <td>0.000498</td>\n",
       "      <td>0.020702</td>\n",
       "      <td>0.154281</td>\n",
       "    </tr>\n",
       "    <tr>\n",
       "      <th>17965140</th>\n",
       "      <td>17965140</td>\n",
       "      <td>0.106108</td>\n",
       "      <td>0.000634</td>\n",
       "      <td>0.885741</td>\n",
       "      <td>0.007517</td>\n",
       "    </tr>\n",
       "    <tr>\n",
       "      <th>17965141</th>\n",
       "      <td>17965141</td>\n",
       "      <td>0.835803</td>\n",
       "      <td>0.000496</td>\n",
       "      <td>0.019368</td>\n",
       "      <td>0.144334</td>\n",
       "    </tr>\n",
       "    <tr>\n",
       "      <th>17965142</th>\n",
       "      <td>17965142</td>\n",
       "      <td>0.106108</td>\n",
       "      <td>0.000634</td>\n",
       "      <td>0.885741</td>\n",
       "      <td>0.007517</td>\n",
       "    </tr>\n",
       "  </tbody>\n",
       "</table>\n",
       "<p>17965143 rows × 5 columns</p>\n",
       "</div>"
      ],
      "text/plain": [
       "                id         A         B         C         D\n",
       "0                0  0.920459  0.000601  0.077990  0.000951\n",
       "1                1  0.922988  0.000724  0.075292  0.000996\n",
       "2                2  0.923043  0.000589  0.075435  0.000932\n",
       "3                3  0.922988  0.000724  0.075292  0.000996\n",
       "4                4  0.905030  0.000584  0.093463  0.000924\n",
       "...            ...       ...       ...       ...       ...\n",
       "17965138  17965138  0.271763  0.001067  0.715887  0.011283\n",
       "17965139  17965139  0.824518  0.000498  0.020702  0.154281\n",
       "17965140  17965140  0.106108  0.000634  0.885741  0.007517\n",
       "17965141  17965141  0.835803  0.000496  0.019368  0.144334\n",
       "17965142  17965142  0.106108  0.000634  0.885741  0.007517\n",
       "\n",
       "[17965143 rows x 5 columns]"
      ]
     },
     "execution_count": 19,
     "metadata": {},
     "output_type": "execute_result"
    }
   ],
   "source": [
    "print(sub.shape)\n",
    "sub"
   ]
  },
  {
   "cell_type": "code",
   "execution_count": 24,
   "metadata": {},
   "outputs": [],
   "source": [
    "sub.to_csv(\"submission.csv\",index=False)"
   ]
  },
  {
   "cell_type": "code",
   "execution_count": null,
   "metadata": {},
   "outputs": [],
   "source": []
  }
 ],
 "metadata": {
  "kernelspec": {
   "display_name": "Python 3",
   "language": "python",
   "name": "python3"
  },
  "language_info": {
   "codemirror_mode": {
    "name": "ipython",
    "version": 3
   },
   "file_extension": ".py",
   "mimetype": "text/x-python",
   "name": "python",
   "nbconvert_exporter": "python",
   "pygments_lexer": "ipython3",
   "version": "3.7.6"
  }
 },
 "nbformat": 4,
 "nbformat_minor": 4
}
