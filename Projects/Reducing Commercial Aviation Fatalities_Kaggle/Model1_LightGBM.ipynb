{
 "cells": [
  {
   "cell_type": "code",
   "execution_count": 15,
   "metadata": {},
   "outputs": [
    {
     "name": "stdout",
     "output_type": "stream",
     "text": [
      "Collecting lightgbm\n",
      "  Downloading lightgbm-3.0.0-py2.py3-none-manylinux1_x86_64.whl (1.7 MB)\n",
      "\u001b[K     |████████████████████████████████| 1.7 MB 2.8 MB/s eta 0:00:01\n",
      "\u001b[?25hRequirement already satisfied: scipy in /opt/conda/lib/python3.7/site-packages (from lightgbm) (1.4.1)\n",
      "Requirement already satisfied: numpy in /opt/conda/lib/python3.7/site-packages (from lightgbm) (1.18.5)\n",
      "Requirement already satisfied: scikit-learn!=0.22.0 in /opt/conda/lib/python3.7/site-packages (from lightgbm) (0.23.1)\n",
      "Requirement already satisfied: joblib>=0.11 in /opt/conda/lib/python3.7/site-packages (from scikit-learn!=0.22.0->lightgbm) (0.15.1)\n",
      "Requirement already satisfied: threadpoolctl>=2.0.0 in /opt/conda/lib/python3.7/site-packages (from scikit-learn!=0.22.0->lightgbm) (2.1.0)\n",
      "Installing collected packages: lightgbm\n",
      "Successfully installed lightgbm-3.0.0\n"
     ]
    }
   ],
   "source": [
    "!pip install lightgbm"
   ]
  },
  {
   "cell_type": "code",
   "execution_count": 1,
   "metadata": {},
   "outputs": [],
   "source": [
    "import pandas as pd\n",
    "import numpy as np\n",
    "import matplotlib.pyplot as plt\n",
    "import seaborn as sns\n",
    "import sklearn\n",
    "import dask.dataframe as dd\n",
    "from sklearn.model_selection import train_test_split\n",
    "from sklearn.ensemble import RandomForestClassifier\n",
    "import lightgbm as lgb\n",
    "from sklearn.metrics import log_loss\n",
    "from sklearn.model_selection import RandomizedSearchCV\n",
    "from sklearn.metrics import multilabel_confusion_matrix\n",
    "from sklearn.preprocessing import StandardScaler,MinMaxScaler,Normalizer\n",
    "import tqdm\n",
    "from tqdm import tqdm\n",
    "import warnings\n",
    "warnings. filterwarnings(\"ignore\") \n",
    "from scipy import signal\n",
    "from biosppy.signals import ecg \n",
    "from biosppy.signals import eeg\n",
    "from biosppy.signals import resp\n",
    "from scipy.interpolate import interp1d \n",
    "import phik\n",
    "import dask.array as ar\n",
    "import pickle\n",
    "import joblib"
   ]
  },
  {
   "cell_type": "code",
   "execution_count": 2,
   "metadata": {},
   "outputs": [],
   "source": [
    "train_data=dd.read_csv(\"pilot_train_eda_fe\")\n",
    "train_data=train_data.compute()"
   ]
  },
  {
   "cell_type": "code",
   "execution_count": null,
   "metadata": {},
   "outputs": [],
   "source": [
    "test_data=dd.read_csv(\"test.csv\")"
   ]
  },
  {
   "cell_type": "code",
   "execution_count": 3,
   "metadata": {},
   "outputs": [],
   "source": [
    "test_data=test_data.drop(['id','experiment','seat'],axis=1)"
   ]
  },
  {
   "cell_type": "code",
   "execution_count": 4,
   "metadata": {},
   "outputs": [],
   "source": [
    "test_data=test_data.fillna(0).compute()"
   ]
  },
  {
   "cell_type": "code",
   "execution_count": 3,
   "metadata": {},
   "outputs": [],
   "source": [
    "eeg_features=['eeg_fp1', 'eeg_f7', 'eeg_f8','eeg_t4', 'eeg_t6', 'eeg_t5', 'eeg_t3', 'eeg_fp2', 'eeg_o1', 'eeg_p3','eeg_pz', 'eeg_f3',\n",
    "              'eeg_fz', 'eeg_f4', 'eeg_c4', 'eeg_p4', 'eeg_poz','eeg_c3', 'eeg_cz', 'eeg_o2']"
   ]
  },
  {
   "cell_type": "code",
   "execution_count": 7,
   "metadata": {},
   "outputs": [],
   "source": [
    "#https://stackoverflow.com/questions/35588782/how-to-average-a-signal-to-remove-noise-with-python\n",
    "\n",
    "def remove_noise(data,w):\n",
    "    n=5 #oder of the filter\n",
    "    \n",
    "    b, a = signal.butter(n,w,fs=256) #design a butterworth filter with order N and critical frequnecy w. This will return the filter coefficents\n",
    "    return signal.filtfilt(b, a, data) \n"
   ]
  },
  {
   "cell_type": "code",
   "execution_count": 8,
   "metadata": {},
   "outputs": [
    {
     "name": "stdout",
     "output_type": "stream",
     "text": [
      "Added filtered ecg data\n",
      "Dropped noisy ecg data\n"
     ]
    }
   ],
   "source": [
    "#filtered ecg for test data\n",
    "\n",
    "w=100 \n",
    "test_data[\"filtered_ecg\"]=dd.from_array(remove_noise(test_data[\"ecg\"],w))\n",
    "print(\"Added filtered ecg data\")\n",
    "test_data=test_data.drop(\"ecg\",axis=1)\n",
    "print(\"Dropped noisy ecg data\")\n"
   ]
  },
  {
   "cell_type": "code",
   "execution_count": 9,
   "metadata": {},
   "outputs": [
    {
     "name": "stdout",
     "output_type": "stream",
     "text": [
      "Added filtered r data\n",
      "Dropped noisy r data\n"
     ]
    }
   ],
   "source": [
    "#filtered r for test data\n",
    "w=0.7 \n",
    "\n",
    "test_data[\"filtered_r\"]=dd.from_array(remove_noise(test_data[\"r\"],w))\n",
    "print(\"Added filtered r data\")\n",
    "test_data=test_data.drop(\"r\",axis=1)\n",
    "print(\"Dropped noisy r data\")"
   ]
  },
  {
   "cell_type": "code",
   "execution_count": 10,
   "metadata": {},
   "outputs": [],
   "source": [
    "#https://docs.scipy.org/doc/scipy/reference/generated/scipy.interpolate.interp1d.html\n",
    "def interpolation_fn(timestamps,biosppy_ts, biosppy_values):\n",
    "\n",
    "    interpolation = interp1d(biosppy_ts,biosppy_values, kind=\"linear\", fill_value=\"extrapolate\") #Kind can be linear, quadratic or cubic. fill value is NAN if not given\n",
    "    return interpolation(timestamps) #this is the time stamps where we need to get the interpolated values That is the time stamps in the dataframe\n",
    "\n"
   ]
  },
  {
   "cell_type": "code",
   "execution_count": 11,
   "metadata": {},
   "outputs": [],
   "source": [
    "#extracting ecg information for test data\n",
    "bio=ecg.ecg(test_data[\"filtered_ecg\"],sampling_rate=256,show=False) \n"
   ]
  },
  {
   "cell_type": "code",
   "execution_count": 12,
   "metadata": {},
   "outputs": [],
   "source": [
    "#interpolate test heart rate data\n",
    "test_data[\"heart_rate\"]=dd.from_array(interpolation_fn(test_data[\"time\"],bio[\"heart_rate_ts\"],bio[\"heart_rate\"]))\n",
    "\n"
   ]
  },
  {
   "cell_type": "code",
   "execution_count": 13,
   "metadata": {},
   "outputs": [],
   "source": [
    "#extracting resppiration rate information for test data\n",
    "\n",
    "bio=resp.resp(test_data[\"filtered_r\"],sampling_rate=256,show=False) \n",
    "\n",
    "#we need to interpolate respiration rate also\n",
    "test_data[\"resp_rate\"]=dd.from_array(interpolation_fn(test_data[\"time\"],bio[\"resp_rate_ts\"],bio[\"resp_rate\"]))\n"
   ]
  },
  {
   "cell_type": "code",
   "execution_count": 14,
   "metadata": {},
   "outputs": [],
   "source": [
    "#deriving potential difference for test data\n",
    "test_data[\"fp1_f7\"]=test_data[\"eeg_fp1\"]-test_data[\"eeg_f7\"]\n",
    "test_data[\"f7_t3\"]=test_data[\"eeg_f7\"]-test_data[\"eeg_t3\"]\n",
    "test_data[\"t3_t5\"]=test_data[\"eeg_t3\"]-test_data[\"eeg_t5\"]\n",
    "test_data[\"t5_o1\"]=test_data[\"eeg_t5\"]-test_data[\"eeg_o1\"]\n",
    "test_data[\"p3_o1\"]=test_data[\"eeg_p3\"]-test_data[\"eeg_o1\"]\n",
    "test_data[\"c3_p3\"]=test_data[\"eeg_c3\"]-test_data[\"eeg_p3\"]\n",
    "test_data[\"f3_c3\"]=test_data[\"eeg_f3\"]-test_data[\"eeg_c3\"]\n",
    "test_data[\"fp1_f3\"]=test_data[\"eeg_fp1\"]-test_data[\"eeg_f3\"]\n",
    "\n",
    "test_data[\"fzcz\"]=test_data[\"eeg_fz\"]-test_data[\"eeg_cz\"]\n",
    "test_data[\"czpz\"]=test_data[\"eeg_cz\"]-test_data[\"eeg_pz\"]\n",
    "\n",
    "test_data[\"fp2_f4\"]=test_data[\"eeg_fp2\"]-test_data[\"eeg_f4\"]\n",
    "test_data[\"f4_c4\"]=test_data[\"eeg_f4\"]-test_data[\"eeg_c4\"]\n",
    "test_data[\"c4_p4\"]=test_data[\"eeg_c4\"]-test_data[\"eeg_p4\"]\n",
    "test_data[\"p4_o2\"]=test_data[\"eeg_p4\"]-test_data[\"eeg_o2\"]\n",
    "test_data[\"t6_o2\"]=test_data[\"eeg_t6\"]-test_data[\"eeg_o2\"]\n",
    "test_data[\"t4_t6\"]=test_data[\"eeg_t4\"]-test_data[\"eeg_t6\"]\n",
    "test_data[\"f8_t4\"]=test_data[\"eeg_f8\"]-test_data[\"eeg_t4\"]\n",
    "test_data[\"fp2_f8\"]=test_data[\"eeg_fp2\"]-test_data[\"eeg_f8\"]"
   ]
  },
  {
   "cell_type": "code",
   "execution_count": 15,
   "metadata": {},
   "outputs": [],
   "source": [
    "#get power features for eeg test data\n",
    "bio=eeg.get_power_features(test_data[eeg_features],sampling_rate=256) "
   ]
  },
  {
   "cell_type": "code",
   "execution_count": 16,
   "metadata": {},
   "outputs": [
    {
     "name": "stderr",
     "output_type": "stream",
     "text": [
      "100%|██████████| 20/20 [00:27<00:00,  1.40s/it]\n"
     ]
    }
   ],
   "source": [
    "theta_feature=[i+\"_theta\" for i in eeg_features]\n",
    "import tqdm \n",
    "from tqdm import tqdm\n",
    "for i in tqdm(range(20)):\n",
    "    test_data[theta_feature[i]]=interpolation_fn(test_data[\"time\"],bio[\"ts\"],bio[\"theta\"][:,i])\n",
    "   "
   ]
  },
  {
   "cell_type": "code",
   "execution_count": 17,
   "metadata": {},
   "outputs": [
    {
     "name": "stderr",
     "output_type": "stream",
     "text": [
      "100%|██████████| 20/20 [00:27<00:00,  1.36s/it]\n"
     ]
    }
   ],
   "source": [
    "alpha_low_feature=[i+\"_alpha_low\" for i in eeg_features]\n",
    "# alpha_low for test data\n",
    "for i in tqdm(range(20)):\n",
    "    test_data[alpha_low_feature[i]]=interpolation_fn(test_data[\"time\"],bio[\"ts\"],bio[\"alpha_low\"][:,i])\n",
    "    \n",
    "    "
   ]
  },
  {
   "cell_type": "code",
   "execution_count": 18,
   "metadata": {},
   "outputs": [
    {
     "name": "stderr",
     "output_type": "stream",
     "text": [
      "100%|██████████| 20/20 [00:27<00:00,  1.40s/it]\n"
     ]
    }
   ],
   "source": [
    "alpha_high_feature=[i+\"_alpha_high\" for i in eeg_features]\n",
    "#alpha_high feature for test data\n",
    "for i in tqdm(range(20)):\n",
    "    test_data[alpha_high_feature[i]]=interpolation_fn(test_data[\"time\"],bio[\"ts\"],bio[\"alpha_high\"][:,i])"
   ]
  },
  {
   "cell_type": "code",
   "execution_count": 22,
   "metadata": {},
   "outputs": [
    {
     "data": {
      "text/plain": [
       "Index(['crew', 'time', 'eeg_fp1', 'eeg_f7', 'eeg_f8', 'eeg_t4', 'eeg_t6',\n",
       "       'eeg_t5', 'eeg_t3', 'eeg_fp2',\n",
       "       ...\n",
       "       'eeg_pz_alpha_high', 'eeg_f3_alpha_high', 'eeg_fz_alpha_high',\n",
       "       'eeg_f4_alpha_high', 'eeg_c4_alpha_high', 'eeg_p4_alpha_high',\n",
       "       'eeg_poz_alpha_high', 'eeg_c3_alpha_high', 'eeg_cz_alpha_high',\n",
       "       'eeg_o2_alpha_high'],\n",
       "      dtype='object', length=105)"
      ]
     },
     "execution_count": 22,
     "metadata": {},
     "output_type": "execute_result"
    }
   ],
   "source": [
    "test_data.columns"
   ]
  },
  {
   "cell_type": "code",
   "execution_count": 21,
   "metadata": {},
   "outputs": [
    {
     "data": {
      "text/plain": [
       "Index(['Unnamed: 0', 'Unnamed: 0.1', 'Unnamed: 0.1.1', 'crew', 'time',\n",
       "       'eeg_fp1', 'eeg_f7', 'eeg_f8', 'eeg_t4', 'eeg_t6',\n",
       "       ...\n",
       "       'eeg_pz_theta', 'eeg_f3_theta', 'eeg_fz_theta', 'eeg_f4_theta',\n",
       "       'eeg_c4_theta', 'eeg_p4_theta', 'eeg_poz_theta', 'eeg_c3_theta',\n",
       "       'eeg_cz_theta', 'eeg_o2_theta'],\n",
       "      dtype='object', length=109)"
      ]
     },
     "execution_count": 21,
     "metadata": {},
     "output_type": "execute_result"
    }
   ],
   "source": [
    "train_data.columns"
   ]
  },
  {
   "cell_type": "code",
   "execution_count": 19,
   "metadata": {},
   "outputs": [],
   "source": [
    "y=train_data[\"e\"]\n",
    "train_data=train_data.drop([\"e\",\"Unnamed: 0.1\",\"Unnamed: 0\",\"Unnamed: 0.1.1\"],axis=1)\n"
   ]
  },
  {
   "cell_type": "code",
   "execution_count": 4,
   "metadata": {},
   "outputs": [
    {
     "ename": "NameError",
     "evalue": "name 'y' is not defined",
     "output_type": "error",
     "traceback": [
      "\u001b[0;31m---------------------------------------------------------------------------\u001b[0m",
      "\u001b[0;31mNameError\u001b[0m                                 Traceback (most recent call last)",
      "\u001b[0;32m<ipython-input-4-43ef075e1fe3>\u001b[0m in \u001b[0;36m<module>\u001b[0;34m\u001b[0m\n\u001b[0;32m----> 1\u001b[0;31m \u001b[0mtrain_data\u001b[0m\u001b[0;34m,\u001b[0m\u001b[0mcv_data\u001b[0m\u001b[0;34m,\u001b[0m\u001b[0my_train\u001b[0m\u001b[0;34m,\u001b[0m\u001b[0my_cv\u001b[0m\u001b[0;34m=\u001b[0m\u001b[0mtrain_test_split\u001b[0m\u001b[0;34m(\u001b[0m\u001b[0mtrain_data\u001b[0m\u001b[0;34m,\u001b[0m\u001b[0my\u001b[0m\u001b[0;34m,\u001b[0m\u001b[0mstratify\u001b[0m\u001b[0;34m=\u001b[0m\u001b[0my\u001b[0m\u001b[0;34m,\u001b[0m\u001b[0mtest_size\u001b[0m\u001b[0;34m=\u001b[0m\u001b[0;36m0.25\u001b[0m\u001b[0;34m,\u001b[0m\u001b[0mrandom_state\u001b[0m\u001b[0;34m=\u001b[0m\u001b[0;36m1\u001b[0m\u001b[0;34m)\u001b[0m\u001b[0;34m\u001b[0m\u001b[0;34m\u001b[0m\u001b[0m\n\u001b[0m\u001b[1;32m      2\u001b[0m \u001b[0mprint\u001b[0m\u001b[0;34m(\u001b[0m\u001b[0mtrain_data\u001b[0m\u001b[0;34m.\u001b[0m\u001b[0mshape\u001b[0m\u001b[0;34m)\u001b[0m\u001b[0;34m\u001b[0m\u001b[0;34m\u001b[0m\u001b[0m\n\u001b[1;32m      3\u001b[0m \u001b[0mprint\u001b[0m\u001b[0;34m(\u001b[0m\u001b[0my_train\u001b[0m\u001b[0;34m.\u001b[0m\u001b[0mshape\u001b[0m\u001b[0;34m)\u001b[0m\u001b[0;34m\u001b[0m\u001b[0;34m\u001b[0m\u001b[0m\n\u001b[1;32m      4\u001b[0m \u001b[0mprint\u001b[0m\u001b[0;34m(\u001b[0m\u001b[0mcv_data\u001b[0m\u001b[0;34m.\u001b[0m\u001b[0mshape\u001b[0m\u001b[0;34m)\u001b[0m\u001b[0;34m\u001b[0m\u001b[0;34m\u001b[0m\u001b[0m\n",
      "\u001b[0;31mNameError\u001b[0m: name 'y' is not defined"
     ]
    }
   ],
   "source": [
    "train_data,cv_data,y_train,y_cv=train_test_split(train_data,y,stratify=y,test_size=0.25,random_state=1)\n",
    "print(train_data.shape)\n",
    "print(y_train.shape)\n",
    "print(cv_data.shape)"
   ]
  },
  {
   "cell_type": "markdown",
   "metadata": {},
   "source": [
    "**Use RandomForestClassifier to check the important features**"
   ]
  },
  {
   "cell_type": "code",
   "execution_count": 8,
   "metadata": {},
   "outputs": [
    {
     "name": "stderr",
     "output_type": "stream",
     "text": [
      "[Parallel(n_jobs=-1)]: Using backend ThreadingBackend with 8 concurrent workers.\n",
      "[Parallel(n_jobs=-1)]: Done  34 tasks      | elapsed: 16.4min\n",
      "[Parallel(n_jobs=-1)]: Done 100 out of 100 | elapsed: 44.5min finished\n"
     ]
    },
    {
     "data": {
      "text/plain": [
       "RandomForestClassifier(n_jobs=-1, verbose=1)"
      ]
     },
     "execution_count": 8,
     "metadata": {},
     "output_type": "execute_result"
    }
   ],
   "source": [
    "clf=RandomForestClassifier(verbose=1,n_jobs=-1)\n",
    "clf.fit(X_train,y_train)"
   ]
  },
  {
   "cell_type": "code",
   "execution_count": 13,
   "metadata": {},
   "outputs": [
    {
     "data": {
      "text/plain": [
       "<matplotlib.axes._subplots.AxesSubplot at 0x7ff49c5cdf10>"
      ]
     },
     "execution_count": 13,
     "metadata": {},
     "output_type": "execute_result"
    },
    {
     "data": {
      "image/png": "[encoded data removed]",
      "text/plain": [
       "<Figure size 432x288 with 1 Axes>"
      ]
     },
     "metadata": {
      "needs_background": "light"
     },
     "output_type": "display_data"
    }
   ],
   "source": [
    "#https://stackoverflow.com/questions/44511636/matplotlib-plot-feature-importance-with-feature-names\n",
    "pd.Series(data=clf.feature_importances_, index=x.columns).nlargest(20).plot(kind='barh')"
   ]
  },
  {
   "cell_type": "markdown",
   "metadata": {},
   "source": [
    "We can see that the most important features are the engineered or derived features"
   ]
  },
  {
   "cell_type": "markdown",
   "metadata": {},
   "source": [
    "# Preprocessing of data"
   ]
  },
  {
   "cell_type": "markdown",
   "metadata": {},
   "source": [
    "### Preprocessing using Standardization"
   ]
  },
  {
   "cell_type": "code",
   "execution_count": 5,
   "metadata": {},
   "outputs": [],
   "source": [
    "std=StandardScaler()\n",
    "stds=[]"
   ]
  },
  {
   "cell_type": "code",
   "execution_count": 6,
   "metadata": {},
   "outputs": [
    {
     "name": "stderr",
     "output_type": "stream",
     "text": [
      "100%|██████████| 3/3 [00:00<00:00,  9.45it/s]\n"
     ]
    }
   ],
   "source": [
    "#preprocessing filtered ecg,r and gsr signal\n",
    "features=[\"filtered_ecg\",\"filtered_r\",\"gsr\"]\n",
    "for each in tqdm(features):\n",
    "    std.fit(train_data[each].values.reshape(-1,1))\n",
    "    train_data[each]=std.transform(train_data[each].values.reshape(-1,1))\n",
    "    stds.append(std)\n",
    "    cv_data[each]=std.transform(cv_data[each].values.reshape(-1,1))\n",
    "    test_data[each]=std.transform(test_data[each].values.reshape(-1,1))"
   ]
  },
  {
   "cell_type": "code",
   "execution_count": 7,
   "metadata": {},
   "outputs": [
    {
     "name": "stderr",
     "output_type": "stream",
     "text": [
      "100%|██████████| 2/2 [00:00<00:00,  9.39it/s]\n"
     ]
    }
   ],
   "source": [
    "#preprocessing respiration rate and heart rate\n",
    "features=[\"resp_rate\",\"heart_rate\"]\n",
    "for each in tqdm(features):\n",
    "    std.fit(train_data[each].values.reshape(-1,1))\n",
    "    train_data[each]=std.transform(train_data[each].values.reshape(-1,1))\n",
    "    stds.append(std)\n",
    "    cv_data[each]=std.transform(cv_data[each].values.reshape(-1,1))\n",
    "    test_data[each]=std.transform(test_data[each].values.reshape(-1,1))\n",
    "   "
   ]
  },
  {
   "cell_type": "code",
   "execution_count": 8,
   "metadata": {},
   "outputs": [
    {
     "name": "stderr",
     "output_type": "stream",
     "text": [
      "100%|██████████| 20/20 [00:02<00:00,  9.48it/s]\n"
     ]
    }
   ],
   "source": [
    "#preprocessing eeg features\n",
    "eeg_features=['eeg_fp1', 'eeg_f7', 'eeg_f8','eeg_t4', 'eeg_t6', 'eeg_t5', 'eeg_t3', 'eeg_fp2', 'eeg_o1', 'eeg_p3','eeg_pz', 'eeg_f3',\n",
    "              'eeg_fz', 'eeg_f4', 'eeg_c4', 'eeg_p4', 'eeg_poz','eeg_c3', 'eeg_cz', 'eeg_o2']\n",
    "for each in tqdm(eeg_features):\n",
    "    std.fit(train_data[each].values.reshape(-1,1))\n",
    "    train_data[each]=std.transform(train_data[each].values.reshape(-1,1))\n",
    "    stds.append(std)\n",
    "    cv_data[each]=std.transform(cv_data[each].values.reshape(-1,1))\n",
    "    test_data[each]=std.transform(test_data[each].values.reshape(-1,1))"
   ]
  },
  {
   "cell_type": "code",
   "execution_count": 9,
   "metadata": {},
   "outputs": [
    {
     "name": "stderr",
     "output_type": "stream",
     "text": [
      "100%|██████████| 18/18 [00:01<00:00,  9.40it/s]\n"
     ]
    }
   ],
   "source": [
    "pd=[\"fp1_f7\",\"f7_t3\",\"t3_t5\",\"t5_o1\",\"p3_o1\",\"c3_p3\",\"f3_c3\",\"fp1_f3\",\"fzcz\",\n",
    "\"czpz\",\"fp2_f4\",\"f4_c4\",\"c4_p4\",\"p4_o2\",\"t6_o2\",\"t4_t6\",\"f8_t4\",\"fp2_f8\"]\n",
    "for each in tqdm(pd):\n",
    "    std.fit(train_data[each].values.reshape(-1,1))\n",
    "    train_data[each]=std.transform(train_data[each].values.reshape(-1,1))\n",
    "    stds.append(std)\n",
    "    cv_data[each]=std.transform(cv_data[each].values.reshape(-1,1))\n",
    "    test_data[each]=std.transform(test_data[each].values.reshape(-1,1))"
   ]
  },
  {
   "cell_type": "code",
   "execution_count": 10,
   "metadata": {},
   "outputs": [
    {
     "name": "stderr",
     "output_type": "stream",
     "text": [
      "100%|██████████| 20/20 [00:02<00:00,  9.42it/s]\n"
     ]
    }
   ],
   "source": [
    "#preprocessing theta eeg features\n",
    "features=[i+\"_theta\" for i in eeg_features]\n",
    "for each in tqdm(features):\n",
    "    std.fit(train_data[each].values.reshape(-1,1))\n",
    "    train_data[each]=std.transform(train_data[each].values.reshape(-1,1))\n",
    "    stds.append(std)\n",
    "    cv_data[each]=std.transform(cv_data[each].values.reshape(-1,1))\n",
    "    test_data[each]=std.transform(test_data[each].values.reshape(-1,1))"
   ]
  },
  {
   "cell_type": "code",
   "execution_count": 11,
   "metadata": {},
   "outputs": [
    {
     "name": "stderr",
     "output_type": "stream",
     "text": [
      "100%|██████████| 20/20 [00:02<00:00,  9.45it/s]\n"
     ]
    }
   ],
   "source": [
    "#preprocessing alpha_low eeg features\n",
    "features=[i+\"_alpha_low\" for i in eeg_features]\n",
    "for each in tqdm(features):\n",
    "    std.fit(train_data[each].values.reshape(-1,1))\n",
    "    train_data[each]=std.transform(train_data[each].values.reshape(-1,1))\n",
    "    stds.append(std)\n",
    "    cv_data[each]=std.transform(cv_data[each].values.reshape(-1,1))\n",
    "    test_data[each]=std.transform(test_data[each].values.reshape(-1,1))"
   ]
  },
  {
   "cell_type": "code",
   "execution_count": 12,
   "metadata": {},
   "outputs": [
    {
     "name": "stderr",
     "output_type": "stream",
     "text": [
      "100%|██████████| 20/20 [00:02<00:00,  9.46it/s]\n"
     ]
    }
   ],
   "source": [
    "#preprocessing alpha_high eeg features\n",
    "features=[i+\"_alpha_high\" for i in eeg_features]\n",
    "for each in tqdm(features):\n",
    "    std.fit(train_data[each].values.reshape(-1,1))\n",
    "    train_data[each]=std.transform(train_data[each].values.reshape(-1,1))\n",
    "    stds.append(std)\n",
    "    cv_data[each]=std.transform(cv_data[each].values.reshape(-1,1))\n",
    "    test_data[each]=std.transform(test_data[each].values.reshape(-1,1))"
   ]
  },
  {
   "cell_type": "code",
   "execution_count": 14,
   "metadata": {},
   "outputs": [
    {
     "name": "stdout",
     "output_type": "stream",
     "text": [
      "103\n"
     ]
    }
   ],
   "source": [
    "print(len(stds))\n",
    "np.save(\"std\",stds)"
   ]
  },
  {
   "cell_type": "markdown",
   "metadata": {},
   "source": [
    "All the numerical features are standardized"
   ]
  },
  {
   "cell_type": "code",
   "execution_count": 29,
   "metadata": {},
   "outputs": [],
   "source": [
    "test_data.to_csv(\"test_eda\")"
   ]
  },
  {
   "cell_type": "markdown",
   "metadata": {},
   "source": [
    "**Modeling using standardized features**"
   ]
  },
  {
   "cell_type": "code",
   "execution_count": 37,
   "metadata": {},
   "outputs": [],
   "source": [
    "params = {\"n_estimators\":[10,20,30,50,100],          \n",
    "        \"num_leaves\" : range(1,50),          \n",
    "        \"learning_rate\" : [1e-4,0.0001,0.001,0.01,0.1],     \n",
    "        \"bagging_fraction\" : list(np.arange(0.0,1.0,0.1)),                    \n",
    "        \"colsample_bytree\" : list(np.arange(0.0,1.0,0.1)),  \n",
    "        'min_data_in_leaf':[1,10,20,50,80,100]\n",
    "          }"
   ]
  },
  {
   "cell_type": "code",
   "execution_count": 55,
   "metadata": {},
   "outputs": [],
   "source": [
    "model=lgb.LGBMClassifier()\n",
    "random_cfl=RandomizedSearchCV(model,param_distributions=params,verbose=10)"
   ]
  },
  {
   "cell_type": "code",
   "execution_count": null,
   "metadata": {},
   "outputs": [
    {
     "name": "stdout",
     "output_type": "stream",
     "text": [
      "Fitting 5 folds for each of 10 candidates, totalling 50 fits\n"
     ]
    },
    {
     "name": "stderr",
     "output_type": "stream",
     "text": [
      "[Parallel(n_jobs=1)]: Using backend SequentialBackend with 1 concurrent workers.\n"
     ]
    },
    {
     "name": "stdout",
     "output_type": "stream",
     "text": [
      "[CV] num_leaves=16, n_estimators=10, min_data_in_leaf=20, learning_rate=0.1, colsample_bytree=0.4, bagging_fraction=0.8 \n",
      "[LightGBM] [Warning] min_data_in_leaf is set=20, min_child_samples=20 will be ignored. Current value: min_data_in_leaf=20\n",
      "[LightGBM] [Warning] bagging_fraction is set=0.8, subsample=1.0 will be ignored. Current value: bagging_fraction=0.8\n",
      "[CV]  num_leaves=16, n_estimators=10, min_data_in_leaf=20, learning_rate=0.1, colsample_bytree=0.4, bagging_fraction=0.8, score=0.756, total=  23.1s\n",
      "[CV] num_leaves=16, n_estimators=10, min_data_in_leaf=20, learning_rate=0.1, colsample_bytree=0.4, bagging_fraction=0.8 \n"
     ]
    },
    {
     "name": "stderr",
     "output_type": "stream",
     "text": [
      "[Parallel(n_jobs=1)]: Done   1 out of   1 | elapsed:   23.2s remaining:    0.0s\n"
     ]
    },
    {
     "name": "stdout",
     "output_type": "stream",
     "text": [
      "[LightGBM] [Warning] min_data_in_leaf is set=20, min_child_samples=20 will be ignored. Current value: min_data_in_leaf=20\n",
      "[LightGBM] [Warning] bagging_fraction is set=0.8, subsample=1.0 will be ignored. Current value: bagging_fraction=0.8\n"
     ]
    }
   ],
   "source": [
    "\n",
    "random_cfl.fit(train_data,y_train)"
   ]
  },
  {
   "cell_type": "code",
   "execution_count": 70,
   "metadata": {},
   "outputs": [
    {
     "data": {
      "text/plain": [
       "{'num_leaves': 40,\n",
       " 'n_estimators': 50,\n",
       " 'min_data_in_leaf': 100,\n",
       " 'learning_rate': 0.1,\n",
       " 'colsample_bytree': 0.7000000000000001,\n",
       " 'bagging_fraction': 0.9}"
      ]
     },
     "execution_count": 70,
     "metadata": {},
     "output_type": "execute_result"
    }
   ],
   "source": [
    "random_cfl.best_params_"
   ]
  },
  {
   "cell_type": "code",
   "execution_count": 29,
   "metadata": {},
   "outputs": [],
   "source": [
    "best_params={'num_leaves': 40,\n",
    " 'n_estimators': 50,\n",
    " 'min_data_in_leaf': 100,\n",
    " 'learning_rate': 0.1,\n",
    " 'colsample_bytree': 0.7000000000000001,\n",
    " 'bagging_fraction': 0.9}"
   ]
  },
  {
   "cell_type": "code",
   "execution_count": null,
   "metadata": {},
   "outputs": [],
   "source": []
  },
  {
   "cell_type": "code",
   "execution_count": 30,
   "metadata": {},
   "outputs": [
    {
     "name": "stdout",
     "output_type": "stream",
     "text": [
      "[LightGBM] [Warning] min_data_in_leaf is set=100, min_child_samples=20 will be ignored. Current value: min_data_in_leaf=100\n",
      "[LightGBM] [Warning] bagging_fraction is set=0.9, subsample=1.0 will be ignored. Current value: bagging_fraction=0.9\n"
     ]
    },
    {
     "data": {
      "text/plain": [
       "LGBMClassifier(bagging_fraction=0.9, colsample_bytree=0.7000000000000001,\n",
       "               metric='multi_logloss', min_data_in_leaf=100, n_estimators=50,\n",
       "               num_classes=4, num_leaves=40, objective='multiclass')"
      ]
     },
     "execution_count": 30,
     "metadata": {},
     "output_type": "execute_result"
    }
   ],
   "source": [
    "clf=lgb.LGBMClassifier(objective=\"multiclass\",num_classes=4,metric=\"multi_logloss\",**best_params)\n",
    "clf.fit(train_data, y_train)"
   ]
  },
  {
   "cell_type": "code",
   "execution_count": 47,
   "metadata": {},
   "outputs": [
    {
     "data": {
      "text/plain": [
       "['model1.pkl']"
      ]
     },
     "execution_count": 47,
     "metadata": {},
     "output_type": "execute_result"
    }
   ],
   "source": [
    "from sklearn.externals import joblib \n",
    "   \n",
    "joblib.dump(clf, 'model1.pkl') "
   ]
  },
  {
   "cell_type": "code",
   "execution_count": 40,
   "metadata": {},
   "outputs": [],
   "source": [
    "y_train_hat=clf.predict_proba(train_data)\n",
    "y_cv_hat=clf.predict_proba(cv_data)"
   ]
  },
  {
   "cell_type": "code",
   "execution_count": null,
   "metadata": {},
   "outputs": [],
   "source": []
  },
  {
   "cell_type": "code",
   "execution_count": 41,
   "metadata": {},
   "outputs": [
    {
     "name": "stdout",
     "output_type": "stream",
     "text": [
      "0.1756289341530388\n",
      "0.17635649260525962\n"
     ]
    }
   ],
   "source": [
    "print(log_loss(y_train,y_train_hat))\n",
    "print(log_loss(y_cv,y_cv_hat))"
   ]
  },
  {
   "cell_type": "code",
   "execution_count": 43,
   "metadata": {},
   "outputs": [
    {
     "data": {
      "text/plain": [
       "<sklearn.metrics._plot.confusion_matrix.ConfusionMatrixDisplay at 0x7fead049ef10>"
      ]
     },
     "execution_count": 43,
     "metadata": {},
     "output_type": "execute_result"
    },
    {
     "data": {
      "image/png": "[encoded data removed]",
      "text/plain": [
       "<Figure size 432x288 with 2 Axes>"
      ]
     },
     "metadata": {
      "needs_background": "light"
     },
     "output_type": "display_data"
    }
   ],
   "source": [
    "sklearn.metrics.plot_confusion_matrix(clf,train_data,y_train,normalize=\"true\")"
   ]
  },
  {
   "cell_type": "code",
   "execution_count": 44,
   "metadata": {},
   "outputs": [
    {
     "data": {
      "text/plain": [
       "<sklearn.metrics._plot.confusion_matrix.ConfusionMatrixDisplay at 0x7fead04c5190>"
      ]
     },
     "execution_count": 44,
     "metadata": {},
     "output_type": "execute_result"
    },
    {
     "data": {
      "image/png": "[encoded data removed]",
      "text/plain": [
       "<Figure size 432x288 with 2 Axes>"
      ]
     },
     "metadata": {
      "needs_background": "light"
     },
     "output_type": "display_data"
    }
   ],
   "source": [
    "sklearn.metrics.plot_confusion_matrix(clf,cv_data,y_cv,normalize=\"true\")"
   ]
  },
  {
   "cell_type": "code",
   "execution_count": null,
   "metadata": {},
   "outputs": [],
   "source": [
    "y_train_result=np.argmax(y_train_hat,axis=1)\n"
   ]
  },
  {
   "cell_type": "code",
   "execution_count": null,
   "metadata": {},
   "outputs": [],
   "source": []
  }
 ],
 "metadata": {
  "kernelspec": {
   "display_name": "Python 3",
   "language": "python",
   "name": "python3"
  },
  "language_info": {
   "codemirror_mode": {
    "name": "ipython",
    "version": 3
   },
   "file_extension": ".py",
   "mimetype": "text/x-python",
   "name": "python",
   "nbconvert_exporter": "python",
   "pygments_lexer": "ipython3",
   "version": "3.7.6"
  }
 },
 "nbformat": 4,
 "nbformat_minor": 4
}
