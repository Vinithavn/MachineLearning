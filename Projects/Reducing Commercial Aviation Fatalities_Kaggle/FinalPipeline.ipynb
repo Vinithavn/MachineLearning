{
 "cells": [
  {
   "cell_type": "code",
   "execution_count": 6,
   "metadata": {},
   "outputs": [],
   "source": [
    "import pandas as pd\n",
    "import numpy as np\n",
    "import matplotlib.pyplot as plt\n",
    "import seaborn as sns\n",
    "import sklearn\n",
    "import dask.dataframe as dd\n",
    "from sklearn.model_selection import train_test_split\n",
    "from sklearn.ensemble import RandomForestClassifier\n",
    "import lightgbm as lgb\n",
    "from sklearn.metrics import log_loss\n",
    "from sklearn.model_selection import RandomizedSearchCV\n",
    "from sklearn.metrics import multilabel_confusion_matrix\n",
    "from sklearn.preprocessing import StandardScaler,MinMaxScaler,Normalizer\n",
    "import tqdm\n",
    "from tqdm import tqdm\n",
    "import warnings\n",
    "warnings. filterwarnings(\"ignore\") \n",
    "from scipy import signal\n",
    "from biosppy.signals import ecg \n",
    "from biosppy.signals import eeg\n",
    "from biosppy.signals import resp\n",
    "from scipy.interpolate import interp1d \n",
    "import phik\n",
    "import dask.array as ar\n",
    "import pickle\n",
    "import joblib\n",
    "import random"
   ]
  },
  {
   "cell_type": "code",
   "execution_count": 2,
   "metadata": {},
   "outputs": [],
   "source": [
    "X_train=dd.read_csv(\"pilot_train_eda_fe\")\n",
    "X_train=X_train.compute()\n"
   ]
  },
  {
   "cell_type": "code",
   "execution_count": 6,
   "metadata": {},
   "outputs": [],
   "source": [
    "#train and cv data are done feature engineering and preprocessing\n",
    "\n",
    "X_train,X_cv,y_train,y_cv=train_test_split(X_train,y_train,test_size=0.25,random_state=1)"
   ]
  },
  {
   "cell_type": "markdown",
   "metadata": {},
   "source": [
    "## Feature Engineering "
   ]
  },
  {
   "cell_type": "code",
   "execution_count": 6,
   "metadata": {},
   "outputs": [],
   "source": [
    "def remove_noise(data,w):\n",
    "    n=5 #oder of the filter\n",
    "    \n",
    "    b, a = signal.butter(n,w,fs=256) #design a butterworth filter with order N and critical frequnecy w. This will return the filter coefficents\n",
    "    return signal.filtfilt(b, a, data) \n",
    "    "
   ]
  },
  {
   "cell_type": "code",
   "execution_count": 61,
   "metadata": {},
   "outputs": [],
   "source": [
    "#https://docs.scipy.org/doc/scipy/reference/generated/scipy.interpolate.interp1d.html\n",
    "def interpolation_fn(timestamps,biosppy_ts, biosppy_values):\n",
    "\n",
    "    interpolation = interp1d(biosppy_ts,biosppy_values, kind=\"linear\", fill_value=\"extrapolate\") #Kind can be linear, quadratic or cubic. fill value is NAN if not given\n",
    "    return interpolation(timestamps) #this is the time stamps where we need to get the interpolated values That is the time stamps in the dataframe\n",
    "\n"
   ]
  },
  {
   "cell_type": "code",
   "execution_count": 60,
   "metadata": {},
   "outputs": [],
   "source": [
    "def biosppy(df):\n",
    "    #heart rate from ecg\n",
    "    bio=ecg.ecg(df[\"filtered_ecg\"],sampling_rate=256,show=False)\n",
    "    \n",
    "    #interpolate test heart rate data\n",
    "    df[\"heart_rate\"]=dd.from_array(interpolation_fn(df[\"time\"],bio[\"heart_rate_ts\"],bio[\"heart_rate\"]))\n",
    "    \n",
    "    #resp rate from r signal\n",
    "    bio=ecg.ecg(df[\"filtered_r\"],sampling_rate=256,show=False) \n",
    "    #interpolate test heart rate data\n",
    "    df[\"resp_rate\"]=dd.from_array(interpolation_fn(df[\"time\"],bio[\"resp_rate_ts\"],bio[\"resp_rate\"]))\n",
    "    \n",
    "    ##eeg frequency bands\n",
    "   \n",
    "    bio=eeg.get_power_features(df[eeg_features],sampling_rate=256) \n",
    "    \n",
    "    alpha_low_feature=[i+\"_alpha_low\" for i in eeg_features]\n",
    "    for i in range(20):\n",
    "        df[alpha_low_feature[i]]=interpolation_fn(df[\"time\"],bio[\"ts\"],bio[\"alpha_low\"][:,i])\n",
    "    \n",
    "\n",
    "    alpha_high_feature=[i+\"_alpha_high\" for i in eeg_features]\n",
    "    for i in range(20):\n",
    "        df[alpha_high_feature[i]]=interpolation_fn(df[\"time\"],bio[\"ts\"],bio[\"alpha_high\"][:,i])\n",
    "    \n",
    "    theta_feature=[i+\"_theta\" for i in eeg_features]\n",
    "    for i in range(20):\n",
    "        df[theta_feature[i]]=interpolation_fn(df[\"time\"],bio[\"ts\"],bio[\"theta\"][:,i])\n",
    "   \n",
    "    \n",
    "    return df"
   ]
  },
  {
   "cell_type": "code",
   "execution_count": 7,
   "metadata": {},
   "outputs": [],
   "source": [
    "def potential(df):\n",
    "    \n",
    "    df[\"fp1_f7\"]=df[\"eeg_fp1\"]-df[\"eeg_f7\"]\n",
    "    df[\"f7_t3\"]=df[\"eeg_f7\"]-df[\"eeg_t3\"]\n",
    "    df[\"t3_t5\"]=df[\"eeg_t3\"]-df[\"eeg_t5\"]\n",
    "    df[\"t5_o1\"]=df[\"eeg_t5\"]-df[\"eeg_o1\"]\n",
    "    df[\"p3_o1\"]=df[\"eeg_p3\"]-df[\"eeg_o1\"]\n",
    "    df[\"c3_p3\"]=df[\"eeg_c3\"]-df[\"eeg_p3\"]\n",
    "    df[\"f3_c3\"]=df[\"eeg_f3\"]-df[\"eeg_c3\"]\n",
    "    df[\"fp1_f3\"]=df[\"eeg_fp1\"]-df[\"eeg_f3\"]\n",
    "\n",
    "    df[\"fzcz\"]=df[\"eeg_fz\"]-df[\"eeg_cz\"]\n",
    "    df[\"czpz\"]=df[\"eeg_cz\"]-df[\"eeg_pz\"]\n",
    "\n",
    "    df[\"fp2_f4\"]=df[\"eeg_fp2\"]-df[\"eeg_f4\"]\n",
    "    df[\"f4_c4\"]=df[\"eeg_f4\"]-df[\"eeg_c4\"]\n",
    "    df[\"c4_p4\"]=df[\"eeg_c4\"]-df[\"eeg_p4\"]\n",
    "    df[\"p4_o2\"]=df[\"eeg_p4\"]-df[\"eeg_o2\"]\n",
    "    df[\"t6_o2\"]=df[\"eeg_t6\"]-df[\"eeg_o2\"]\n",
    "    df[\"t4_t6\"]=df[\"eeg_t4\"]-df[\"eeg_t6\"]\n",
    "    df[\"f8_t4\"]=df[\"eeg_f8\"]-df[\"eeg_t4\"]\n",
    "    df[\"fp2_f8\"]=df[\"eeg_fp2\"]-df[\"eeg_f8\"]\n",
    "    \n",
    "    return df"
   ]
  },
  {
   "cell_type": "markdown",
   "metadata": {},
   "source": [
    "## Standardisation of features"
   ]
  },
  {
   "cell_type": "code",
   "execution_count": 4,
   "metadata": {},
   "outputs": [
    {
     "name": "stdout",
     "output_type": "stream",
     "text": [
      "103\n"
     ]
    }
   ],
   "source": [
    "eeg_features=['eeg_fp1', 'eeg_f7', 'eeg_f8','eeg_t4', 'eeg_t6', 'eeg_t5', 'eeg_t3', 'eeg_fp2', 'eeg_o1', 'eeg_p3','eeg_pz', 'eeg_f3',\n",
    "              'eeg_fz', 'eeg_f4', 'eeg_c4', 'eeg_p4', 'eeg_poz','eeg_c3', 'eeg_cz', 'eeg_o2']\n",
    "\n",
    "\n",
    "pd=[\"fp1_f7\",\"f7_t3\",\"t3_t5\",\"t5_o1\",\"p3_o1\",\"c3_p3\",\"f3_c3\",\"fp1_f3\",\"fzcz\",\"czpz\",\"fp2_f4\",\"f4_c4\",\"c4_p4\",\"p4_o2\",\"t6_o2\",\"t4_t6\",\"f8_t4\",\"fp2_f8\"]\n",
    "alpha_low_features=[\"alpha_low\"+i for i in eeg_features]\n",
    "alpha_high_features=[\"alpha_low\"+i for i in eeg_features]\n",
    "theta_features=[\"alpha_low\"+i for i in eeg_features]\n",
    "\n",
    "features=[\"filtered_ecg\",\"filtered_r\",\"gsr\",\"resp_rate\",\"heart_rate\"]\n",
    "features.extend(eeg_features)\n",
    "features.extend(pd)\n",
    "features.extend(alpha_low_features)\n",
    "features.extend(alpha_high_features)\n",
    "features.extend(theta_features)\n",
    "print(len(features))"
   ]
  },
  {
   "cell_type": "code",
   "execution_count": 13,
   "metadata": {},
   "outputs": [],
   "source": [
    "std=np.load(\"std.npy\")"
   ]
  },
  {
   "cell_type": "code",
   "execution_count": 10,
   "metadata": {},
   "outputs": [],
   "source": [
    "def standardisation(X_test):\n",
    "    \n",
    "    for i in range(len(features)):\n",
    "        std_1= std[i]\n",
    "        X_test[features[i]]=std_1.transform(X_test[features[i]].values.reshape(-1,1))\n",
    "    \n",
    "     return X_test"
   ]
  },
  {
   "cell_type": "code",
   "execution_count": 15,
   "metadata": {},
   "outputs": [],
   "source": [
    "y_train=X_train[\"e\"]\n",
    "y_cv=X_cv[\"e\"]\n",
    "X_train=X_train.drop([\"e\",\"Unnamed: 0\"],axis=1)\n",
    "X_cv=X_cv.drop([\"e\",\"Unnamed: 0\"],axis=1)"
   ]
  },
  {
   "cell_type": "code",
   "execution_count": 7,
   "metadata": {},
   "outputs": [
    {
     "name": "stdout",
     "output_type": "stream",
     "text": [
      "(3650565, 105)\n",
      "(1216856, 105)\n"
     ]
    }
   ],
   "source": [
    "print(X_train.shape)\n",
    "print(X_cv.shape)"
   ]
  },
  {
   "cell_type": "markdown",
   "metadata": {},
   "source": [
    "## Loading the model\n"
   ]
  },
  {
   "cell_type": "code",
   "execution_count": 16,
   "metadata": {},
   "outputs": [],
   "source": [
    "#Loading the trained model\n",
    "model=joblib.load('model1.pkl')"
   ]
  },
  {
   "cell_type": "markdown",
   "metadata": {},
   "source": [
    "## Predictions for a random cv data"
   ]
  },
  {
   "cell_type": "code",
   "execution_count": 46,
   "metadata": {},
   "outputs": [
    {
     "name": "stdout",
     "output_type": "stream",
     "text": [
      "[245637]\n"
     ]
    }
   ],
   "source": [
    "a=random.sample(range(0,X_cv.shape[0]),1)\n",
    "print(a)"
   ]
  },
  {
   "cell_type": "code",
   "execution_count": 47,
   "metadata": {},
   "outputs": [],
   "source": [
    "pred=model.predict_proba(X_cv.iloc[a])\n",
    "final_pred=np.argmax(pred,axis=1)"
   ]
  },
  {
   "cell_type": "code",
   "execution_count": 48,
   "metadata": {},
   "outputs": [
    {
     "name": "stdout",
     "output_type": "stream",
     "text": [
      "The actual output is  [0]\n",
      "Model predicted output is  [0]\n"
     ]
    }
   ],
   "source": [
    "print(\"The actual output is \", y_cv.iloc[a].values)\n",
    "print(\"Model predicted output is \",final_pred)"
   ]
  },
  {
   "cell_type": "markdown",
   "metadata": {},
   "source": [
    "## Predictions for test data"
   ]
  },
  {
   "cell_type": "code",
   "execution_count": 14,
   "metadata": {},
   "outputs": [],
   "source": [
    "X_test=dd.read_csv(\"test.csv\")\n",
    "X_test=X_test.drop(['id','experiment','seat'],axis=1)\n",
    "X_test=X_test.fillna(0).compute()"
   ]
  },
  {
   "cell_type": "code",
   "execution_count": 6,
   "metadata": {},
   "outputs": [],
   "source": [
    "def function1(X_test):\n",
    "    X_test[\"filtered_ecg\"]=dd.from_array(remove_noise(X_test[\"ecg\"],100))\n",
    "    X_test=X_test.drop(\"ecg\",axis=1)\n",
    "    \n",
    "    X_test[\"filtered_r\"]=dd.from_array(remove_noise(X_test[\"r\"],0.7))\n",
    "    X_test=X_test.drop(\"r\",axis=1)\n",
    "    \n",
    "    X_test=biosppy(X_test)\n",
    "    X_test=potential(X_test)\n",
    "    X_test=standardisation(X_test)\n",
    "    \n",
    "    return X_test"
   ]
  },
  {
   "cell_type": "code",
   "execution_count": 11,
   "metadata": {},
   "outputs": [],
   "source": [
    "X_test=function1(X_test)"
   ]
  },
  {
   "cell_type": "code",
   "execution_count": 37,
   "metadata": {},
   "outputs": [
    {
     "name": "stderr",
     "output_type": "stream",
     "text": [
      "100%|██████████| 5/5 [08:00<00:00, 96.18s/it] \n"
     ]
    }
   ],
   "source": [
    "#the test data was splitted into 5 files after all the preprocessing.So data from each file is read and predictions are done\n",
    "r=[]\n",
    "for i in tqdm(range(1,6)):\n",
    "    data=dd.read_csv(\"out_\"+str(i)+\".csv\")\n",
    "    data=data.compute()\n",
    "    \n",
    "    data=data.drop(data.columns[0],axis=1)\n",
    "    r.extend(model.predict_proba(data))\n",
    "    "
   ]
  },
  {
   "cell_type": "code",
   "execution_count": 39,
   "metadata": {},
   "outputs": [],
   "source": [
    "r=np.array(r)"
   ]
  },
  {
   "cell_type": "code",
   "execution_count": 40,
   "metadata": {},
   "outputs": [],
   "source": [
    "sub=pd.DataFrame()\n",
    "sub[\"id\"]=np.arange(0,17965143)\n",
    "sub[\"A\"]=r[:,0]\n",
    "sub[\"B\"]=r[:,1]\n",
    "sub[\"C\"]=r[:,2]\n",
    "sub[\"D\"]=r[:,3]"
   ]
  },
  {
   "cell_type": "code",
   "execution_count": 41,
   "metadata": {},
   "outputs": [
    {
     "data": {
      "text/html": [
       "<div>\n",
       "<style scoped>\n",
       "    .dataframe tbody tr th:only-of-type {\n",
       "        vertical-align: middle;\n",
       "    }\n",
       "\n",
       "    .dataframe tbody tr th {\n",
       "        vertical-align: top;\n",
       "    }\n",
       "\n",
       "    .dataframe thead th {\n",
       "        text-align: right;\n",
       "    }\n",
       "</style>\n",
       "<table border=\"1\" class=\"dataframe\">\n",
       "  <thead>\n",
       "    <tr style=\"text-align: right;\">\n",
       "      <th></th>\n",
       "      <th>id</th>\n",
       "      <th>A</th>\n",
       "      <th>B</th>\n",
       "      <th>C</th>\n",
       "      <th>D</th>\n",
       "    </tr>\n",
       "  </thead>\n",
       "  <tbody>\n",
       "    <tr>\n",
       "      <th>0</th>\n",
       "      <td>0</td>\n",
       "      <td>0.971920</td>\n",
       "      <td>0.000578</td>\n",
       "      <td>0.026464</td>\n",
       "      <td>0.001037</td>\n",
       "    </tr>\n",
       "    <tr>\n",
       "      <th>1</th>\n",
       "      <td>1</td>\n",
       "      <td>0.971920</td>\n",
       "      <td>0.000578</td>\n",
       "      <td>0.026464</td>\n",
       "      <td>0.001037</td>\n",
       "    </tr>\n",
       "    <tr>\n",
       "      <th>2</th>\n",
       "      <td>2</td>\n",
       "      <td>0.971924</td>\n",
       "      <td>0.000578</td>\n",
       "      <td>0.026464</td>\n",
       "      <td>0.001034</td>\n",
       "    </tr>\n",
       "    <tr>\n",
       "      <th>3</th>\n",
       "      <td>3</td>\n",
       "      <td>0.971924</td>\n",
       "      <td>0.000578</td>\n",
       "      <td>0.026464</td>\n",
       "      <td>0.001034</td>\n",
       "    </tr>\n",
       "    <tr>\n",
       "      <th>4</th>\n",
       "      <td>4</td>\n",
       "      <td>0.971924</td>\n",
       "      <td>0.000578</td>\n",
       "      <td>0.026464</td>\n",
       "      <td>0.001034</td>\n",
       "    </tr>\n",
       "    <tr>\n",
       "      <th>...</th>\n",
       "      <td>...</td>\n",
       "      <td>...</td>\n",
       "      <td>...</td>\n",
       "      <td>...</td>\n",
       "      <td>...</td>\n",
       "    </tr>\n",
       "    <tr>\n",
       "      <th>17965138</th>\n",
       "      <td>17965138</td>\n",
       "      <td>0.958423</td>\n",
       "      <td>0.000480</td>\n",
       "      <td>0.013821</td>\n",
       "      <td>0.027277</td>\n",
       "    </tr>\n",
       "    <tr>\n",
       "      <th>17965139</th>\n",
       "      <td>17965139</td>\n",
       "      <td>0.961352</td>\n",
       "      <td>0.000449</td>\n",
       "      <td>0.012691</td>\n",
       "      <td>0.025508</td>\n",
       "    </tr>\n",
       "    <tr>\n",
       "      <th>17965140</th>\n",
       "      <td>17965140</td>\n",
       "      <td>0.958423</td>\n",
       "      <td>0.000480</td>\n",
       "      <td>0.013821</td>\n",
       "      <td>0.027277</td>\n",
       "    </tr>\n",
       "    <tr>\n",
       "      <th>17965141</th>\n",
       "      <td>17965141</td>\n",
       "      <td>0.961352</td>\n",
       "      <td>0.000449</td>\n",
       "      <td>0.012691</td>\n",
       "      <td>0.025508</td>\n",
       "    </tr>\n",
       "    <tr>\n",
       "      <th>17965142</th>\n",
       "      <td>17965142</td>\n",
       "      <td>0.958423</td>\n",
       "      <td>0.000480</td>\n",
       "      <td>0.013821</td>\n",
       "      <td>0.027277</td>\n",
       "    </tr>\n",
       "  </tbody>\n",
       "</table>\n",
       "<p>17965143 rows × 5 columns</p>\n",
       "</div>"
      ],
      "text/plain": [
       "                id         A         B         C         D\n",
       "0                0  0.971920  0.000578  0.026464  0.001037\n",
       "1                1  0.971920  0.000578  0.026464  0.001037\n",
       "2                2  0.971924  0.000578  0.026464  0.001034\n",
       "3                3  0.971924  0.000578  0.026464  0.001034\n",
       "4                4  0.971924  0.000578  0.026464  0.001034\n",
       "...            ...       ...       ...       ...       ...\n",
       "17965138  17965138  0.958423  0.000480  0.013821  0.027277\n",
       "17965139  17965139  0.961352  0.000449  0.012691  0.025508\n",
       "17965140  17965140  0.958423  0.000480  0.013821  0.027277\n",
       "17965141  17965141  0.961352  0.000449  0.012691  0.025508\n",
       "17965142  17965142  0.958423  0.000480  0.013821  0.027277\n",
       "\n",
       "[17965143 rows x 5 columns]"
      ]
     },
     "execution_count": 41,
     "metadata": {},
     "output_type": "execute_result"
    }
   ],
   "source": [
    "sub"
   ]
  },
  {
   "cell_type": "code",
   "execution_count": 44,
   "metadata": {},
   "outputs": [],
   "source": [
    "sub.to_csv(\"submission.csv\",index=False)"
   ]
  },
  {
   "cell_type": "markdown",
   "metadata": {},
   "source": [
    "## Kaggle score obtained (multiclass log loss)"
   ]
  },
  {
   "attachments": {
    "submission1.PNG": {
     "image/png": "[encoded data removed]"
    }
   },
   "cell_type": "markdown",
   "metadata": {},
   "source": [
    "![submission1.PNG](attachment:submission1.PNG)"
   ]
  },
  {
   "cell_type": "code",
   "execution_count": null,
   "metadata": {},
   "outputs": [],
   "source": []
  }
 ],
 "metadata": {
  "kernelspec": {
   "display_name": "Python 3",
   "language": "python",
   "name": "python3"
  },
  "language_info": {
   "codemirror_mode": {
    "name": "ipython",
    "version": 3
   },
   "file_extension": ".py",
   "mimetype": "text/x-python",
   "name": "python",
   "nbconvert_exporter": "python",
   "pygments_lexer": "ipython3",
   "version": "3.7.6"
  }
 },
 "nbformat": 4,
 "nbformat_minor": 4
}
